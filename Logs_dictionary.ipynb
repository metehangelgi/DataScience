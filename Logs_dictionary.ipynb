{
  "cells": [
    {
      "cell_type": "markdown",
      "metadata": {
        "id": "view-in-github",
        "colab_type": "text"
      },
      "source": [
        "<a href=\"https://colab.research.google.com/github/metehangelgi/DataScience/blob/master/Logs_dictionary.ipynb\" target=\"_parent\"><img src=\"https://colab.research.google.com/assets/colab-badge.svg\" alt=\"Open In Colab\"/></a>"
      ]
    },
    {
      "cell_type": "markdown",
      "metadata": {
        "id": "xb4k0rbPUsTW"
      },
      "source": [
        "# Using the logs dictionary\n",
        "\n",
        "In this reading, we will learn how to take advantage of the `logs` dictionary in Keras to define our own callbacks and check the progress of a model."
      ]
    },
    {
      "cell_type": "code",
      "execution_count": 1,
      "metadata": {
        "id": "8haSERikUsTp",
        "colab": {
          "base_uri": "https://localhost:8080/"
        },
        "outputId": "f0a3cd3e-c8bf-4265-ed8d-f2af66eefc4b"
      },
      "outputs": [
        {
          "output_type": "stream",
          "name": "stdout",
          "text": [
            "2.8.2\n"
          ]
        }
      ],
      "source": [
        "import tensorflow as tf\n",
        "print(tf.__version__)"
      ]
    },
    {
      "cell_type": "markdown",
      "metadata": {
        "id": "_JcBPL9TUsTs"
      },
      "source": [
        "The `logs` dictionary stores the loss value, along with all of the metrics we are using at the end of a batch or epoch.\n",
        "\n",
        "We can incorporate information from the `logs` dictionary into our own custom callbacks.\n",
        "\n",
        "Let's see this in action in the context of a model we will construct and fit to the `sklearn` diabetes dataset that we have been using in this module.\n",
        "\n",
        "Let's first import the dataset, and split it into the training and test sets."
      ]
    },
    {
      "cell_type": "code",
      "execution_count": 2,
      "metadata": {
        "id": "A9Toyv5zUsTt"
      },
      "outputs": [],
      "source": [
        "# Load the diabetes dataset\n",
        "\n",
        "from sklearn.datasets import load_diabetes\n",
        "\n",
        "diabetes_dataset = load_diabetes()"
      ]
    },
    {
      "cell_type": "code",
      "execution_count": 3,
      "metadata": {
        "id": "ohEORsVLUsTu"
      },
      "outputs": [],
      "source": [
        "# Save the input and target variables\n",
        "\n",
        "from sklearn.model_selection import train_test_split\n",
        "\n",
        "data = diabetes_dataset['data']\n",
        "targets = diabetes_dataset['target']"
      ]
    },
    {
      "cell_type": "code",
      "execution_count": 4,
      "metadata": {
        "id": "wxdJrdSNUsTv"
      },
      "outputs": [],
      "source": [
        "# Split the data set into training and test sets\n",
        "\n",
        "train_data, test_data, train_targets, test_targets = train_test_split(data, targets, test_size=0.1)"
      ]
    },
    {
      "cell_type": "markdown",
      "metadata": {
        "id": "Tycy2J0CUsTw"
      },
      "source": [
        "Now we construct our model."
      ]
    },
    {
      "cell_type": "code",
      "execution_count": 5,
      "metadata": {
        "id": "C_Vq0FB4UsTx"
      },
      "outputs": [],
      "source": [
        "# Build the model\n",
        "\n",
        "from tensorflow.keras.models import Sequential\n",
        "from tensorflow.keras.layers import Dense\n",
        "\n",
        "model = tf.keras.Sequential([\n",
        "    Dense(128, activation='relu', input_shape=(train_data.shape[1],)),\n",
        "    Dense(64,activation='relu'),\n",
        "    tf.keras.layers.BatchNormalization(),\n",
        "    Dense(64, activation='relu'),\n",
        "    Dense(64, activation='relu'),\n",
        "    Dense(1)        \n",
        "])"
      ]
    },
    {
      "cell_type": "markdown",
      "metadata": {
        "id": "pkkFBQTaUsTy"
      },
      "source": [
        "We now compile the model, with\n",
        "* Mean squared error as the loss function,\n",
        "* the Adam optimizer, and \n",
        "* Mean absolute error (`mae`) as a metric."
      ]
    },
    {
      "cell_type": "code",
      "execution_count": 6,
      "metadata": {
        "id": "LAvIV0u-UsT0"
      },
      "outputs": [],
      "source": [
        "# Compile the model\n",
        "    \n",
        "model.compile(loss='mse', optimizer=\"adam\", metrics=['mae'])"
      ]
    },
    {
      "cell_type": "markdown",
      "metadata": {
        "id": "KS68vFv8UsT1"
      },
      "source": [
        "### Defining a custom callback\n",
        "\n",
        "Now we define our custom callback using the `logs` dictionary to access the loss and metric values."
      ]
    },
    {
      "cell_type": "code",
      "execution_count": 7,
      "metadata": {
        "id": "riy_zoY2UsT3"
      },
      "outputs": [],
      "source": [
        "# Create the custom callback\n",
        "\n",
        "class LossAndMetricCallback(tf.keras.callbacks.Callback):\n",
        "\n",
        "    # Print the loss after every second batch in the training set\n",
        "    def on_train_batch_end(self, batch, logs=None):\n",
        "        if batch %2 ==0:\n",
        "            print('\\n After batch {}, the loss is {:7.2f}.'.format(batch, logs['loss']))\n",
        "    \n",
        "    # Print the loss after each batch in the test set\n",
        "    def on_test_batch_end(self, batch, logs=None):\n",
        "        print('\\n After batch {}, the loss is {:7.2f}.'.format(batch, logs['loss']))\n",
        "\n",
        "    # Print the loss and mean absolute error after each epoch\n",
        "    def on_epoch_end(self, epoch, logs=None):\n",
        "        print('Epoch {}: Average loss is {:7.2f}, mean absolute error is {:7.2f}.'.format(epoch, logs['loss'], logs['mae']))\n",
        "    \n",
        "    # Notify the user when prediction has finished on each batch\n",
        "    def on_predict_batch_end(self,batch, logs=None):\n",
        "        print(\"Finished prediction on batch {}!\".format(batch))"
      ]
    },
    {
      "cell_type": "markdown",
      "metadata": {
        "id": "YTmhERfzUsT5"
      },
      "source": [
        "We now fit the model to the data, and specify that we would like to use our custom callback `LossAndMetricCallback()`."
      ]
    },
    {
      "cell_type": "code",
      "execution_count": 8,
      "metadata": {
        "id": "sM6OIrfEUsT6",
        "colab": {
          "base_uri": "https://localhost:8080/"
        },
        "outputId": "aad34a55-5ed7-43c4-f4aa-03c1199cbd59"
      },
      "outputs": [
        {
          "output_type": "stream",
          "name": "stdout",
          "text": [
            "\n",
            " After batch 0, the loss is 25515.64.\n",
            "\n",
            " After batch 2, the loss is 27579.97.\n",
            "Epoch 0: Average loss is 27493.29, mean absolute error is  147.69.\n",
            "\n",
            " After batch 0, the loss is 29478.75.\n",
            "\n",
            " After batch 2, the loss is 26074.70.\n",
            "Epoch 1: Average loss is 27307.39, mean absolute error is  147.14.\n",
            "\n",
            " After batch 0, the loss is 22408.63.\n",
            "\n",
            " After batch 2, the loss is 26381.49.\n",
            "Epoch 2: Average loss is 27035.21, mean absolute error is  146.35.\n",
            "\n",
            " After batch 0, the loss is 24109.40.\n",
            "\n",
            " After batch 2, the loss is 26755.88.\n",
            "Epoch 3: Average loss is 26647.26, mean absolute error is  145.19.\n",
            "\n",
            " After batch 0, the loss is 25053.06.\n",
            "\n",
            " After batch 2, the loss is 25800.79.\n",
            "Epoch 4: Average loss is 26114.70, mean absolute error is  143.63.\n",
            "\n",
            " After batch 0, the loss is 24216.55.\n",
            "\n",
            " After batch 2, the loss is 25030.28.\n",
            "Epoch 5: Average loss is 25390.11, mean absolute error is  141.45.\n",
            "\n",
            " After batch 0, the loss is 26837.19.\n",
            "\n",
            " After batch 2, the loss is 26012.78.\n",
            "Epoch 6: Average loss is 24466.78, mean absolute error is  138.55.\n",
            "\n",
            " After batch 0, the loss is 29641.62.\n",
            "\n",
            " After batch 2, the loss is 23174.77.\n",
            "Epoch 7: Average loss is 23279.42, mean absolute error is  134.79.\n",
            "\n",
            " After batch 0, the loss is 21844.56.\n",
            "\n",
            " After batch 2, the loss is 23148.78.\n",
            "Epoch 8: Average loss is 21781.11, mean absolute error is  129.75.\n",
            "\n",
            " After batch 0, the loss is 17428.94.\n",
            "\n",
            " After batch 2, the loss is 19141.57.\n",
            "Epoch 9: Average loss is 19896.86, mean absolute error is  123.51.\n",
            "\n",
            " After batch 0, the loss is 22902.61.\n",
            "\n",
            " After batch 2, the loss is 18908.90.\n",
            "Epoch 10: Average loss is 17926.64, mean absolute error is  115.63.\n",
            "\n",
            " After batch 0, the loss is 17331.80.\n",
            "\n",
            " After batch 2, the loss is 15736.80.\n",
            "Epoch 11: Average loss is 15625.72, mean absolute error is  106.49.\n",
            "\n",
            " After batch 0, the loss is 15661.69.\n",
            "\n",
            " After batch 2, the loss is 13772.95.\n",
            "Epoch 12: Average loss is 13293.59, mean absolute error is   96.03.\n",
            "\n",
            " After batch 0, the loss is 9814.16.\n",
            "\n",
            " After batch 2, the loss is 11333.21.\n",
            "Epoch 13: Average loss is 11136.40, mean absolute error is   85.14.\n",
            "\n",
            " After batch 0, the loss is 9402.43.\n",
            "\n",
            " After batch 2, the loss is 9343.86.\n",
            "Epoch 14: Average loss is 9109.26, mean absolute error is   74.73.\n",
            "\n",
            " After batch 0, the loss is 6590.93.\n",
            "\n",
            " After batch 2, the loss is 7459.77.\n",
            "Epoch 15: Average loss is 7403.06, mean absolute error is   65.86.\n",
            "\n",
            " After batch 0, the loss is 7198.72.\n",
            "\n",
            " After batch 2, the loss is 7175.17.\n",
            "Epoch 16: Average loss is 6504.99, mean absolute error is   61.56.\n",
            "\n",
            " After batch 0, the loss is 4609.56.\n",
            "\n",
            " After batch 2, the loss is 5719.17.\n",
            "Epoch 17: Average loss is 5803.37, mean absolute error is   58.69.\n",
            "\n",
            " After batch 0, the loss is 6639.76.\n",
            "\n",
            " After batch 2, the loss is 5334.01.\n",
            "Epoch 18: Average loss is 5393.61, mean absolute error is   57.22.\n",
            "\n",
            " After batch 0, the loss is 5076.80.\n",
            "\n",
            " After batch 2, the loss is 5020.88.\n",
            "Epoch 19: Average loss is 5344.35, mean absolute error is   57.77.\n"
          ]
        }
      ],
      "source": [
        "# Train the model\n",
        "\n",
        "history = model.fit(train_data, train_targets, epochs=20,\n",
        "                    batch_size=100, callbacks=[LossAndMetricCallback()], verbose=False)"
      ]
    },
    {
      "cell_type": "markdown",
      "metadata": {
        "id": "QGKbgcVZUsT7"
      },
      "source": [
        "We can also use our callback in the `evaluate` function..."
      ]
    },
    {
      "cell_type": "code",
      "execution_count": 9,
      "metadata": {
        "id": "HxG7JTV-UsUI",
        "colab": {
          "base_uri": "https://localhost:8080/"
        },
        "outputId": "51122169-34c8-450a-9f2d-daf26291341c"
      },
      "outputs": [
        {
          "output_type": "stream",
          "name": "stdout",
          "text": [
            "\n",
            " After batch 0, the loss is 34122.74.\n",
            "\n",
            " After batch 1, the loss is 33698.29.\n",
            "\n",
            " After batch 2, the loss is 30129.74.\n",
            "\n",
            " After batch 3, the loss is 26068.63.\n",
            "\n",
            " After batch 4, the loss is 26046.40.\n"
          ]
        }
      ],
      "source": [
        "# Evaluate the model\n",
        "\n",
        "model_eval = model.evaluate(test_data, test_targets, batch_size=10, \n",
        "                            callbacks=[LossAndMetricCallback()], verbose=False)"
      ]
    },
    {
      "cell_type": "markdown",
      "metadata": {
        "id": "jolCtQ_1UsUT"
      },
      "source": [
        "...And also the `predict` function."
      ]
    },
    {
      "cell_type": "code",
      "execution_count": 10,
      "metadata": {
        "id": "qDTD4ZhLUsUW",
        "colab": {
          "base_uri": "https://localhost:8080/"
        },
        "outputId": "6f03fb9d-1097-4946-df8a-53ca871a7ef3"
      },
      "outputs": [
        {
          "output_type": "stream",
          "name": "stdout",
          "text": [
            "Finished prediction on batch 0!\n",
            "Finished prediction on batch 1!\n",
            "Finished prediction on batch 2!\n",
            "Finished prediction on batch 3!\n",
            "Finished prediction on batch 4!\n"
          ]
        }
      ],
      "source": [
        "# Get predictions from the model\n",
        "\n",
        "model_pred = model.predict(test_data, batch_size=10,\n",
        "                           callbacks=[LossAndMetricCallback()], verbose=False)"
      ]
    },
    {
      "cell_type": "markdown",
      "metadata": {
        "id": "DJIBzjYjUsUX"
      },
      "source": [
        "### Application - learning rate scheduler\n",
        "Let's now look at a more sophisticated custom callback. \n",
        "\n",
        "We are going to define a callback to change the learning rate of the optimiser of a model during training. We will do this by specifying the epochs and new learning rates where we would like it to be changed.\n",
        "\n",
        "First we define the auxillary function that returns the learning rate for each epoch based on our schedule."
      ]
    },
    {
      "cell_type": "code",
      "execution_count": 11,
      "metadata": {
        "id": "fuWxz7XcUsUa"
      },
      "outputs": [],
      "source": [
        "# Define the learning rate schedule. The tuples below are (start_epoch, new_learning_rate)\n",
        "\n",
        "lr_schedule = [\n",
        "    (4, 0.03), (7, 0.02), (11, 0.005), (15, 0.007)\n",
        "]\n",
        "\n",
        "def get_new_epoch_lr(epoch, lr):\n",
        "    # Checks to see if the input epoch is listed in the learning rate schedule \n",
        "    # and if so, returns index in lr_schedule\n",
        "    epoch_in_sched = [i for i in range(len(lr_schedule)) if lr_schedule[i][0]==int(epoch)]\n",
        "    if len(epoch_in_sched)>0:\n",
        "        # If it is, return the learning rate corresponding to the epoch\n",
        "        return lr_schedule[epoch_in_sched[0]][1]\n",
        "    else:\n",
        "        # Otherwise, return the existing learning rate\n",
        "        return lr"
      ]
    },
    {
      "cell_type": "markdown",
      "metadata": {
        "id": "Ho9_NkXdUsUc"
      },
      "source": [
        "Let's now define the callback itself."
      ]
    },
    {
      "cell_type": "code",
      "execution_count": 12,
      "metadata": {
        "id": "MuJn2VJ0UsUd"
      },
      "outputs": [],
      "source": [
        "# Define the custom callback\n",
        "\n",
        "class LRScheduler(tf.keras.callbacks.Callback):\n",
        "    \n",
        "    def __init__(self, new_lr):\n",
        "        super(LRScheduler, self).__init__()\n",
        "        # Add the new learning rate function to our callback\n",
        "        self.new_lr = new_lr\n",
        "\n",
        "    def on_epoch_begin(self, epoch, logs=None):\n",
        "        # Make sure that the optimizer we have chosen has a learning rate, and raise an error if not\n",
        "        if not hasattr(self.model.optimizer, 'lr'):\n",
        "              raise ValueError('Error: Optimizer does not have a learning rate.')\n",
        "                \n",
        "        # Get the current learning rate\n",
        "        curr_rate = float(tf.keras.backend.get_value(self.model.optimizer.lr))\n",
        "        \n",
        "        # Call the auxillary function to get the scheduled learning rate for the current epoch\n",
        "        scheduled_rate = self.new_lr(epoch, curr_rate)\n",
        "\n",
        "        # Set the learning rate to the scheduled learning rate\n",
        "        tf.keras.backend.set_value(self.model.optimizer.lr, scheduled_rate)\n",
        "        print('Learning rate for epoch {} is {:7.3f}'.format(epoch, scheduled_rate))"
      ]
    },
    {
      "cell_type": "markdown",
      "metadata": {
        "id": "bKg1hQm8UsUe"
      },
      "source": [
        "Let's now train the model again with our new callback. "
      ]
    },
    {
      "cell_type": "code",
      "execution_count": 13,
      "metadata": {
        "id": "qHZvTcXUUsUe"
      },
      "outputs": [],
      "source": [
        "# Build the same model as before\n",
        "\n",
        "new_model = tf.keras.Sequential([\n",
        "    Dense(128, activation='relu', input_shape=(train_data.shape[1],)),\n",
        "    Dense(64,activation='relu'),\n",
        "    tf.keras.layers.BatchNormalization(),\n",
        "    Dense(64, activation='relu'),\n",
        "    Dense(64, activation='relu'),\n",
        "    Dense(1)        \n",
        "])"
      ]
    },
    {
      "cell_type": "code",
      "execution_count": 14,
      "metadata": {
        "id": "UalWFiTlUsUf"
      },
      "outputs": [],
      "source": [
        "# Compile the model\n",
        "\n",
        "new_model.compile(loss='mse',\n",
        "                optimizer=\"adam\",\n",
        "                metrics=['mae', 'mse'])"
      ]
    },
    {
      "cell_type": "code",
      "execution_count": 15,
      "metadata": {
        "id": "hzLRUMNaUsUi",
        "colab": {
          "base_uri": "https://localhost:8080/"
        },
        "outputId": "e5aaa58e-f9c0-420f-83d6-dd9438542ca7"
      },
      "outputs": [
        {
          "output_type": "stream",
          "name": "stdout",
          "text": [
            "Learning rate for epoch 0 is   0.001\n",
            "Learning rate for epoch 1 is   0.001\n",
            "Learning rate for epoch 2 is   0.001\n",
            "Learning rate for epoch 3 is   0.001\n",
            "Learning rate for epoch 4 is   0.030\n",
            "Learning rate for epoch 5 is   0.030\n",
            "Learning rate for epoch 6 is   0.030\n",
            "Learning rate for epoch 7 is   0.020\n",
            "Learning rate for epoch 8 is   0.020\n",
            "Learning rate for epoch 9 is   0.020\n",
            "Learning rate for epoch 10 is   0.020\n",
            "Learning rate for epoch 11 is   0.005\n",
            "Learning rate for epoch 12 is   0.005\n",
            "Learning rate for epoch 13 is   0.005\n",
            "Learning rate for epoch 14 is   0.005\n",
            "Learning rate for epoch 15 is   0.007\n",
            "Learning rate for epoch 16 is   0.007\n",
            "Learning rate for epoch 17 is   0.007\n",
            "Learning rate for epoch 18 is   0.007\n",
            "Learning rate for epoch 19 is   0.007\n"
          ]
        }
      ],
      "source": [
        "# Fit the model with our learning rate scheduler callback\n",
        "\n",
        "new_history = new_model.fit(train_data, train_targets, epochs=20,\n",
        "                            batch_size=100, callbacks=[LRScheduler(get_new_epoch_lr)], verbose=False)"
      ]
    },
    {
      "cell_type": "markdown",
      "metadata": {
        "id": "0JBX-KOTUsUj"
      },
      "source": [
        "### Further reading and resources\n",
        "* https://www.tensorflow.org/guide/keras/custom_callback\n",
        "* https://www.tensorflow.org/api_docs/python/tf/keras/callbacks/Callback"
      ]
    }
  ],
  "metadata": {
    "kernelspec": {
      "display_name": "Python 3",
      "language": "python",
      "name": "python3"
    },
    "language_info": {
      "codemirror_mode": {
        "name": "ipython",
        "version": 3
      },
      "file_extension": ".py",
      "mimetype": "text/x-python",
      "name": "python",
      "nbconvert_exporter": "python",
      "pygments_lexer": "ipython3",
      "version": "3.7.1"
    },
    "colab": {
      "name": "Logs dictionary.ipynb",
      "provenance": [],
      "collapsed_sections": [],
      "include_colab_link": true
    }
  },
  "nbformat": 4,
  "nbformat_minor": 0
}